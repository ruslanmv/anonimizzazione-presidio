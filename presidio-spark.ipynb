{
 "cells": [
  {
   "cell_type": "code",
   "execution_count": 2,
   "id": "4e3524f9",
   "metadata": {},
   "outputs": [],
   "source": [
    "import findspark\n",
    "import os\n",
    "from dotenv import load_dotenv\n",
    "findspark.init()\n",
    "from pyspark.sql import SparkSession\n",
    "from pyspark.sql.types import StringType, StructType, StructField\n",
    "# Create SparkSession\n",
    "\n",
    "load_dotenv()\n",
    "\n",
    "spark = SparkSession.builder \\\n",
    "                    .appName(os.environ[\"SESSION_NAME\"]) \\\n",
    "                    .config(\"spark.executor.memory\", \"5g\") \\\n",
    "                    .config(\"spark.driver.memory\", \"5g\") \\\n",
    "                    .getOrCreate()\n",
    "\n",
    "# Define the schema for the DataFrame\n",
    "schema = StructType([\n",
    "    StructField('Number', StringType(), True),\n",
    "    StructField('Description', StringType(), True),\n",
    "    StructField('Short_description', StringType(), True),\n",
    "    StructField('Resolution_notes', StringType(), True)\n",
    "])"
   ]
  },
  {
   "cell_type": "code",
   "execution_count": 3,
   "id": "e805b115-3072-4936-b3b9-cb38577a5f52",
   "metadata": {},
   "outputs": [],
   "source": [
    "from data import data "
   ]
  },
  {
   "cell_type": "code",
   "execution_count": 4,
   "id": "23507cb7-a41e-4c59-894e-32d64eb396dd",
   "metadata": {},
   "outputs": [],
   "source": [
    "# Create the DataFrame\n",
    "df = spark.createDataFrame(data, schema)"
   ]
  },
  {
   "cell_type": "code",
   "execution_count": 5,
   "id": "57dc98f4",
   "metadata": {},
   "outputs": [
    {
     "name": "stdout",
     "output_type": "stream",
     "text": [
      "+------+--------------------+--------------------+--------------------+\n",
      "|Number|         Description|   Short_description|    Resolution_notes|\n",
      "+------+--------------------+--------------------+--------------------+\n",
      "|     1|Si richiede la cl...| Short description 1|Resolution notes ...|\n",
      "|     2|NEW Customer crea...| Short description 2|Resolution notes ...|\n",
      "|     3|NEU Kundenanlage ...| Short description 3|Resolution notes ...|\n",
      "|     4|Buonasera , Vi pr...| Short description 4|Resolution notes ...|\n",
      "|     5|Buongiorno, si pr...| Short description 5|Resolution notes ...|\n",
      "|     6|Risalita ISH con ...| Short description 6|Resolution notes ...|\n",
      "|     7|Buongiorno, si pr...| Short description 7|Resolution notes ...|\n",
      "|     8|Buongiorno, stiam...| Short description 8|Resolution notes ...|\n",
      "|     9|Buongiorno, lanci...| Short description 9|Resolution notes ...|\n",
      "|    10|Buongiorno, lanci...|Short description 10|Resolution notes ...|\n",
      "|    11|Seguito accordi c...|Short description 11|Resolution notes ...|\n",
      "+------+--------------------+--------------------+--------------------+\n",
      "\n"
     ]
    }
   ],
   "source": [
    "df.show()"
   ]
  },
  {
   "cell_type": "code",
   "execution_count": 6,
   "id": "c6f41c0a-13bd-4b6d-ac26-78dc3bd9a5db",
   "metadata": {},
   "outputs": [],
   "source": [
    "from myprojects.datasets import utils"
   ]
  },
  {
   "cell_type": "code",
   "execution_count": 7,
   "id": "5b6f3f6a-0b29-4aa1-8118-fe0ce14c5e7f",
   "metadata": {},
   "outputs": [],
   "source": [
    "df_ano=utils.compute(df)"
   ]
  },
  {
   "cell_type": "code",
   "execution_count": 8,
   "id": "2847193d",
   "metadata": {},
   "outputs": [
    {
     "name": "stdout",
     "output_type": "stream",
     "text": [
      "+------+--------------------+--------------------+--------------------+----------------------+----------------------------+---------------------------+\n",
      "|Number|         Description|   Short_description|    Resolution_notes|Description_anonymized|Short_description_anonymized|Resolution_notes_anonymized|\n",
      "+------+--------------------+--------------------+--------------------+----------------------+----------------------------+---------------------------+\n",
      "|     1|Si richiede la cl...| Short description 1|Resolution notes ...|  Si richiede la cl...|         Short description 1|       Resolution notes ...|\n",
      "|     2|NEW Customer crea...| Short description 2|Resolution notes ...|  NEW Customer crea...|         Short description 2|       Resolution notes ...|\n",
      "|     3|NEU Kundenanlage ...| Short description 3|Resolution notes ...|  <ANONYMIZED> nich...|         Short description 3|       Resolution notes ...|\n",
      "|     4|Buonasera , Vi pr...| Short description 4|Resolution notes ...|  <ANONYMIZED> , Vi...|         Short description 4|       Resolution notes ...|\n",
      "|     5|Buongiorno, si pr...| Short description 5|Resolution notes ...|  Buongiorno, si pr...|         Short description 5|       Resolution notes ...|\n",
      "|     6|Risalita ISH con ...| Short description 6|Resolution notes ...|  <ANONYMIZED> con ...|         Short description 6|       Resolution notes ...|\n",
      "|     7|Buongiorno, si pr...| Short description 7|Resolution notes ...|  Buongiorno, si pr...|         Short description 7|       Resolution notes ...|\n",
      "|     8|Buongiorno, stiam...| Short description 8|Resolution notes ...|  Buongiorno, stiam...|         Short description 8|       Resolution notes ...|\n",
      "|     9|Buongiorno, lanci...| Short description 9|Resolution notes ...|  Buongiorno, lanci...|         Short description 9|       Resolution notes ...|\n",
      "|    10|Buongiorno, lanci...|Short description 10|Resolution notes ...|  Buongiorno, lanci...|        Short description 10|       Resolution notes ...|\n",
      "|    11|Seguito accordi c...|Short description 11|Resolution notes ...|  Seguito accordi c...|        Short description 11|       Resolution notes ...|\n",
      "+------+--------------------+--------------------+--------------------+----------------------+----------------------------+---------------------------+\n",
      "\n"
     ]
    }
   ],
   "source": [
    "df_ano.show()"
   ]
  },
  {
   "cell_type": "code",
   "execution_count": null,
   "id": "a27cca33-7242-4464-b930-677039a8a840",
   "metadata": {},
   "outputs": [],
   "source": []
  }
 ],
 "metadata": {
  "kernelspec": {
   "display_name": "Python 3 (ipykernel)",
   "language": "python",
   "name": "python3"
  },
  "language_info": {
   "codemirror_mode": {
    "name": "ipython",
    "version": 3
   },
   "file_extension": ".py",
   "mimetype": "text/x-python",
   "name": "python",
   "nbconvert_exporter": "python",
   "pygments_lexer": "ipython3",
   "version": "3.10.11"
  }
 },
 "nbformat": 4,
 "nbformat_minor": 5
}

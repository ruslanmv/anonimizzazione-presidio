{
 "cells": [
  {
   "cell_type": "code",
   "execution_count": 1,
   "id": "4e3524f9",
   "metadata": {},
   "outputs": [],
   "source": [
    "import findspark\n",
    "import os\n",
    "from dotenv import load_dotenv\n",
    "findspark.init()\n",
    "from pyspark.sql import SparkSession\n",
    "from pyspark.sql.types import StringType, StructType, StructField\n",
    "# Create SparkSession\n",
    "\n",
    "load_dotenv()\n",
    "\n",
    "spark = SparkSession.builder \\\n",
    "                    .appName(os.environ[\"SESSION_NAME\"]) \\\n",
    "                    .config(\"spark.executor.memory\", \"5g\") \\\n",
    "                    .config(\"spark.driver.memory\", \"5g\") \\\n",
    "                    .getOrCreate()\n",
    "\n",
    "# Define the schema for the DataFrame\n",
    "schema = StructType([\n",
    "    StructField('Number', StringType(), True),\n",
    "    StructField('Description', StringType(), True),\n",
    "    StructField('Short_description', StringType(), True),\n",
    "    StructField('Resolution_notes', StringType(), True)\n",
    "])"
   ]
  },
  {
   "cell_type": "code",
   "execution_count": 2,
   "id": "e805b115-3072-4936-b3b9-cb38577a5f52",
   "metadata": {},
   "outputs": [],
   "source": [
    "from data import data "
   ]
  },
  {
   "cell_type": "code",
   "execution_count": 3,
   "id": "23507cb7-a41e-4c59-894e-32d64eb396dd",
   "metadata": {},
   "outputs": [],
   "source": [
    "# Create the DataFrame\n",
    "df = spark.createDataFrame(data, schema)"
   ]
  },
  {
   "cell_type": "code",
   "execution_count": 4,
   "id": "57dc98f4",
   "metadata": {},
   "outputs": [
    {
     "name": "stdout",
     "output_type": "stream",
     "text": [
      "+------+--------------------+--------------------+--------------------+\n",
      "|Number|         Description|   Short_description|    Resolution_notes|\n",
      "+------+--------------------+--------------------+--------------------+\n",
      "|     1|Si richiede la cl...| Short description 1|Resolution notes ...|\n",
      "|     2|NEW Customer crea...| Short description 2|Resolution notes ...|\n",
      "|     3|NEU Kundenanlage ...| Short description 3|Resolution notes ...|\n",
      "|     4|Buonasera , Vi pr...| Short description 4|Resolution notes ...|\n",
      "|     5|Buongiorno, Mario...| Short description 5|Resolution notes ...|\n",
      "|     6|Risalita ISH con ...| Short description 6|Resolution notes ...|\n",
      "|     7|Buongiorno, si pr...| Short description 7|Resolution notes ...|\n",
      "|     8|Buongiorno, stiam...| Short description 8|Resolution notes ...|\n",
      "|     9|Buongiorno, lanci...| Short description 9|Resolution notes ...|\n",
      "|    10|Buongiorno, lanci...|Short description 10|Resolution notes ...|\n",
      "|    11|Seguito accordi c...|Short description 11|Resolution notes ...|\n",
      "+------+--------------------+--------------------+--------------------+\n",
      "\n"
     ]
    }
   ],
   "source": [
    "df.show()"
   ]
  },
  {
   "cell_type": "code",
   "execution_count": 5,
   "id": "c6f41c0a-13bd-4b6d-ac26-78dc3bd9a5db",
   "metadata": {},
   "outputs": [],
   "source": [
    "from myprojects.datasets import utils"
   ]
  },
  {
   "cell_type": "code",
   "execution_count": 6,
   "id": "5b6f3f6a-0b29-4aa1-8118-fe0ce14c5e7f",
   "metadata": {},
   "outputs": [
    {
     "name": "stderr",
     "output_type": "stream",
     "text": [
      "c:\\Users\\Y9GUFM758\\Documents\\GitHub\\anonimizzazione-presidio\\.conda\\Lib\\site-packages\\tqdm\\auto.py:21: TqdmWarning: IProgress not found. Please update jupyter and ipywidgets. See https://ipywidgets.readthedocs.io/en/stable/user_install.html\n",
      "  from .autonotebook import tqdm as notebook_tqdm\n"
     ]
    }
   ],
   "source": [
    "df_ano=utils.compute(df)"
   ]
  },
  {
   "cell_type": "code",
   "execution_count": 7,
   "id": "2847193d",
   "metadata": {},
   "outputs": [
    {
     "name": "stdout",
     "output_type": "stream",
     "text": [
      "+------+--------------------------------------------------------------------------------------------------------------------------------------------------------------------------------------------------------------------------------------------------------------------------------------------------------------------------------------------------------------------------------------------------------------------------------------------------------------------------------------------------------------------------------------------------------------------+--------------------+------------------------------+-----------------------------------------------------------------------------------------------------------------------------------------------------------------------------------------------------------------------------------------------------------------------------------------------------------------------------------------------------------------------------------------------------------------------------------------------------------------------------------------------------------------------------------------------------------------------------------------------------------+----------------------------+------------------------------+\n",
      "|Number|Description                                                                                                                                                                                                                                                                                                                                                                                                                                                                                                                                                         |Short_description   |Resolution_notes              |Description_anonymized                                                                                                                                                                                                                                                                                                                                                                                                                                                                                                                                                                                     |Short_description_anonymized|Resolution_notes_anonymized   |\n",
      "+------+--------------------------------------------------------------------------------------------------------------------------------------------------------------------------------------------------------------------------------------------------------------------------------------------------------------------------------------------------------------------------------------------------------------------------------------------------------------------------------------------------------------------------------------------------------------------+--------------------+------------------------------+-----------------------------------------------------------------------------------------------------------------------------------------------------------------------------------------------------------------------------------------------------------------------------------------------------------------------------------------------------------------------------------------------------------------------------------------------------------------------------------------------------------------------------------------------------------------------------------------------------------+----------------------------+------------------------------+\n",
      "|1     |Si richiede la clonazione anagrafica dell'ndg 9342345 comprensiva dei conti correnti\\nIl cliente in questone, QUIXA ha richiesto una serie di personalizzazioni che andranno collegate all'NDG ed al conto, per i quali si rendono necessari diversi test in UJ.\\nQ0 non è fondamentale ma potrebbe essere utile averlo allineato.                                                                                                                                                                                                                                  |Short description 1 |Resolution notes for number 1 |Si richiede la clonazione anagrafica dell'ndg <ANONYMIZED> comprensiva dei conti correnti\\nIl cliente in questone, QUIXA ha richiesto una serie di personalizzazioni che andranno collegate all'NDG ed al conto, per i quali si rendono necessari diversi test in UJ.\\n<ANONYMIZED> non è fondamentale ma potrebbe essere utile averlo allineato.                                                                                                                                                                                                                                                          |Short description 1         |Resolution notes for number 1 |\n",
      "|2     |NEW Customer creation (new ndg) not possible because the customer's passport is already available (see error message)\\nCustomer's passport details: Austrian passport number U223424799\\n01/16/2018 - 01/15/2028\\nBH Dornbirn.\\nUrgent case!\\nPlease research where stored.\\nThank you!                                                                                                                                                                                                                                                                             |Short description 2 |Resolution notes for number 2 |NEW Customer creation (new ndg) not possible because the customer's passport is already available (see error message)\\nCustomer's passport details: <ANONYMIZED> passport number <ANONYMIZED>\\n<ANONYMIZED>/<ANONYMIZED> - 01/15/<ANONYMIZED>\\nBH Dornbirn.\\nUrgent case!\\nPlease research where stored.\\nThank you!                                                                                                                                                                                                                                                                                       |Short description 2         |Resolution notes for number 2 |\n",
      "|3     |NEU Kundenanlage nicht möglich, da Reisepass von Kundin bereits vergeben ist (siehe Fehlermeldung)\\nReisepassdaten von Kundin: Osterreichischer Reisepass U2723429 16.01.2018 - 15.01.2028 BH Dornbirn.\\nDringender Fall!\\nBitte um recherche, WO gespeichert Vielen Dank!                                                                                                                                                                                                                                                                                          |Short description 3 |Resolution notes for number 3 |<ANONYMIZED> nicht möglich, da Reisepass von <ANONYMIZED> bereits vergeben ist (siehe Fehlermeldung)\\nReisepassdaten von Kundin: Osterreichischer Reisepass <ANONYMIZED> 16.01.<ANONYMIZED> - 15.01.<ANONYMIZED> BH Dornbirn.\\nDringender Fall!\\nBitte um recherche, WO gespeichert Vielen Dank!                                                                                                                                                                                                                                                                                                           |Short description 3         |Resolution notes for number 3 |\n",
      "|4     |Buonasera , Vi preghiamo aggiornare la catena ish dell' ndg 46251232 GABELIA P. SRL\\n                                                                                                                                                                                                                                                                                                                                                                                                                                                                               |Short description 4 |Resolution notes for number 4 |<ANONYMIZED> , Vi preghiamo aggiornare la catena ish dell' <ANONYMIZED> <ANONYMIZED> GABELIA P. SRL\\n                                                                                                                                                                                                                                                                                                                                                                                                                                                                                                      |Short description 4         |Resolution notes for number 4 |\n",
      "|5     |Buongiorno, Mario si prega di procedere con il collegamento ISH dell'azienda I.M. S.A.S. DI ISABELLA MALAVOLTI (ndg: 89457163)\\nil socio accomandatario MALAVOLTI ISABELLA(ndg: 17324763),\\nrimaniamo in attesa di riscontro un saluto cordiale\\n                                                                                                                                                                                                                                                                                                                   |Short description 5 |Resolution notes for number 5 |<ANONYMIZED>, <ANONYMIZED> si prega di procedere con il collegamento ISH dell'azienda I.M. <ANONYMIZED>.A.<ANONYMIZED>. DI <ANONYMIZED> (ndg: <ANONYMIZED>)\\nil socio accomandatario <ANONYMIZED>(<ANONYMIZED>: <ANONYMIZED>),\\nrimaniamo in attesa di riscontro un saluto cordiale\\n                                                                                                                                                                                                                                                                                                                      |Short description 5         |Resolution notes for number 5 |\n",
      "|6     |Risalita ISH con provider CRIF evidenzia una risalita errata in cui Marposs Italia controlla Marposs AG ma la società ci ha comunicato che non è così.\\nSegnaliamo\\nche Marposs Italia è controllata da Marposs SPa che a sua volta è controllata da Marposs AG e quindi non avrebbe senso il legame tra Marposs AG e Marposs Italia.\\nRimango in attesa di riscontro.\\n                                                                                                                                                                                            |Short description 6 |Resolution notes for number 6 |Risalita ISH con provider <ANONYMIZED> evidenzia una risalita errata in cui <ANONYMIZED> controlla <ANONYMIZED> ma la società ci ha comunicato che non è così.\\nSegnaliamo\\nche <ANONYMIZED> è controllata da <ANONYMIZED> che a sua volta è controllata da <ANONYMIZED> e quindi non avrebbe senso il legame tra <ANONYMIZED> e <ANONYMIZED>.\\nRimango in attesa di riscontro.\\n                                                                                                                                                                                                                          |Short description 6         |Resolution notes for number 6 |\n",
      "|7     |Buongiorno, si prega di procedere con il collegamento ISH dell'azienda A.M. S.A.S. DI ALESSANDRO MALAVOLTI (ndg: 89457105)\\nil socio accomandatario MALAVOLTI ALESSANDRO (ndg: 11481841) come da richiesta DKP allegata.\\nrimaniamo in attesa di riscontro\\n                                                                                                                                                                                                                                                                                                        |Short description 7 |Resolution notes for number 7 |<ANONYMIZED>, si prega di procedere con il collegamento ISH dell'azienda A.M. <ANONYMIZED>.A.S. DI <ANONYMIZED> (ndg: <ANONYMIZED>)\\nil socio accomandatario MALAVOLTI <ANONYMIZED>( ndg: <ANONYMIZED>) come da richiesta DKP allegata.\\nrimaniamo in attesa di riscontro\\n                                                                                                                                                                                                                                                                                                                                |Short description 7         |Resolution notes for number 7 |\n",
      "|8     |Buongiorno, stiamo provando a aggiornare i collegamenti ISH per la società in oggetto ma purtroppo l'esito dell'aggiornamento banca\\ndati non produce risultati e la procedura non ci permette di effettuare i collegamenti manuali.\\nAvremmo necessità di inserire tra i collegamenti manuali dell'azienda Agristore Italia (ndg: 19683774) le seguenti società:\\n1. 89457163 I.M. S.A.S. DI ISABELLA MALAVOLTI\\n2. 89457105 A.M. S.A.S. DI ALESSANDRO MALAVOLTI\\ncome da richiesta del DKP, che alleghiamo.\\nrimaniamo in attesa di riscontro un saluto cordiale\\n|Short description 8 |Resolution notes for number 8 |<ANONYMIZED>, stiamo provando a aggiornare i collegamenti ISH per la società in oggetto ma purtroppo l'esito dell'aggiornamento banca\\ndati non produce risultati e la procedura non ci permette di effettuare i collegamenti manuali.\\nAvremmo necessità di inserire tra i collegamenti manuali dell'azienda Agristore <ANONYMIZED> (ndg: <ANONYMIZED>) le seguenti società:\\n1. <ANONYMIZED> I.M. <ANONYMIZED>.A.<ANONYMIZED>. DI <ANONYMIZED>\\n2. <ANONYMIZED> A.M. <ANONYMIZED>.A.S. DI <ANONYMIZED>\\ncome da richiesta del DKP, che alleghiamo.\\nrimaniamo in attesa di riscontro un saluto cordiale\\n|Short description 8         |Resolution notes for number 8 |\n",
      "|9     |Buongiorno, lanciando la ricerca degli Intermediate Shareholder del cliente ATM SAGLIK KONYA YATIRIM VE ISLETME AS (ndg 89531562) persiste\\nl'errore allegato e non è possibile ottenere alcun risultato..\\nPotreste fare un reset come già fatto di recente per altri clienti in modo che l'esito indichi che il processo è concluso?\\nSi richiede un intervento urgente in quando è propedeutico all'inserimento del rinnovo dell'Adeguata Verifica.\\nGrazie.\\n                                                                                                   |Short description 9 |Resolution notes for number 9 |Buongiorno, lanciando la ricerca degli Intermediate Shareholder del cliente <ANONYMIZED> VE ISLETME AS (ndg <ANONYMIZED>) persiste\\nl'errore allegato e non è possibile ottenere alcun risultato..\\nPotreste fare un reset come già fatto di recente per altri clienti in modo che l'esito indichi che il processo è concluso?\\nSi richiede un intervento urgente in quando è propedeutico all'inserimento del rinnovo dell'Adeguata Verifica.\\nGrazie.\\n                                                                                                                                                  |Short description 9         |Resolution notes for number 9 |\n",
      "|10    |Buongiorno, lanciando la ricerca degli Intermediate Shareholder del cliente ATM SAGLIK KONYA YATIRIM VE ISLETME AS (ndg 89531562) persiste\\nl'errore allegato e non è possibile ottenere alcun risultato..\\nPotreste fare un reset come già fatto di recente per altri clienti in modo che l'esito indichi che il processo è concluso?\\nSi richiede un intervento urgente in quando è propedeutico all'inserimento del rinnovo dell'Adeguata Verifica.\\nGrazie.\\n                                                                                                   |Short description 10|Resolution notes for number 10|Buongiorno, lanciando la ricerca degli Intermediate Shareholder del cliente <ANONYMIZED> VE ISLETME AS (ndg <ANONYMIZED>) persiste\\nl'errore allegato e non è possibile ottenere alcun risultato..\\nPotreste fare un reset come già fatto di recente per altri clienti in modo che l'esito indichi che il processo è concluso?\\nSi richiede un intervento urgente in quando è propedeutico all'inserimento del rinnovo dell'Adeguata Verifica.\\nGrazie.\\n                                                                                                                                                  |Short description 10        |Resolution notes for number 10|\n",
      "|11    |Seguito accordi con Pellarini si apre il presente incident per il mancato rilascio di una fix JAVA a seguito del quale non vengono aggiornate\\ncorrettamente le posizioni su russi e bielorussi.\\nGrazie\\nAnnamaria\\n                                                                                                                                                                                                                                                                                                                                               |Short description 11|Resolution notes for number 11|Seguito accordi con <ANONYMIZED> si apre il presente incident per il mancato rilascio di una fix JAVA a seguito del quale non vengono aggiornate\\ncorrettamente le posizioni su russi e bielorussi.\\nGrazie\\n<ANONYMIZED>                                                                                                                                                                                                                                                                                                                                                                                  |Short description 11        |Resolution notes for number 11|\n",
      "+------+--------------------------------------------------------------------------------------------------------------------------------------------------------------------------------------------------------------------------------------------------------------------------------------------------------------------------------------------------------------------------------------------------------------------------------------------------------------------------------------------------------------------------------------------------------------------+--------------------+------------------------------+-----------------------------------------------------------------------------------------------------------------------------------------------------------------------------------------------------------------------------------------------------------------------------------------------------------------------------------------------------------------------------------------------------------------------------------------------------------------------------------------------------------------------------------------------------------------------------------------------------------+----------------------------+------------------------------+\n",
      "\n"
     ]
    }
   ],
   "source": [
    "df_ano.show(truncate = False)"
   ]
  }
 ],
 "metadata": {
  "kernelspec": {
   "display_name": "Python 3 (ipykernel)",
   "language": "python",
   "name": "python3"
  },
  "language_info": {
   "codemirror_mode": {
    "name": "ipython",
    "version": 3
   },
   "file_extension": ".py",
   "mimetype": "text/x-python",
   "name": "python",
   "nbconvert_exporter": "python",
   "pygments_lexer": "ipython3",
   "version": "3.10.11"
  }
 },
 "nbformat": 4,
 "nbformat_minor": 5
}

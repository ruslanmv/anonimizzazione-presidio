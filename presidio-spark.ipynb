{
 "cells": [
  {
   "cell_type": "code",
   "execution_count": 1,
   "id": "4e3524f9",
   "metadata": {},
   "outputs": [],
   "source": [
    "import findspark\n",
    "import os\n",
    "from dotenv import load_dotenv\n",
    "findspark.init()\n",
    "from pyspark.sql import SparkSession\n",
    "from pyspark.sql.types import StringType, StructType, StructField\n",
    "# Create SparkSession\n",
    "\n",
    "load_dotenv()\n",
    "\n",
    "spark = SparkSession.builder \\\n",
    "                    .appName(os.environ[\"SESSION_NAME\"]) \\\n",
    "                    .config(\"spark.executor.memory\", \"5g\") \\\n",
    "                    .config(\"spark.driver.memory\", \"5g\") \\\n",
    "                    .getOrCreate()\n",
    "\n",
    "# Define the schema for the DataFrame\n",
    "schema = StructType([\n",
    "    StructField('Number', StringType(), True),\n",
    "    StructField('Description', StringType(), True),\n",
    "    StructField('Short_description', StringType(), True),\n",
    "    StructField('Resolution_notes', StringType(), True)\n",
    "])"
   ]
  },
  {
   "cell_type": "code",
   "execution_count": 2,
   "id": "39df3e76-68a8-4bfa-9188-d65c079c705d",
   "metadata": {},
   "outputs": [],
   "source": [
    "# Generate the fake descriptions\n",
    "description1 = '''Si richiede la clonazione anagrafica dell'ndg 9342345 comprensiva dei conti correnti\n",
    "Il cliente in questone, QUIXA ha richiesto una serie di personalizzazioni che andranno collegate all'NDG ed al conto, per i quali si rendono necessari diversi test in UJ.\n",
    "Q0 non è fondamentale ma potrebbe essere utile averlo allineato.'''\n",
    "description2 = '''NEW Customer creation (new ndg) not possible because the customer's passport is already available (see error message)\n",
    "Customer's passport details: Austrian passport number U223424799\n",
    "01/16/2018 - 01/15/2028\n",
    "BH Dornbirn.\n",
    "Urgent case!\n",
    "Please research where stored.\n",
    "Thank you!'''\n",
    "description3 = '''NEU Kundenanlage nicht möglich, da Reisepass von Kundin bereits vergeben ist (siehe Fehlermeldung)\n",
    "Reisepassdaten von Kundin: Osterreichischer Reisepass U2723429 16.01.2018 - 15.01.2028 BH Dornbirn.\n",
    "Dringender Fall!\n",
    "Bitte um recherche, WO gespeichert Vielen Dank!'''\n",
    "\n",
    "# Define the invented data\n",
    "data = [\n",
    "    ('1', description1, 'Short description 1', 'Resolution notes for number 1'),\n",
    "    ('2', description2, 'Short description 2', 'Resolution notes for number 2'),\n",
    "    ('3', description3, 'Short description 3', 'Resolution notes for number 3')\n",
    "]\n",
    "\n",
    "# Create the DataFrame\n",
    "df = spark.createDataFrame(data, schema)"
   ]
  },
  {
   "cell_type": "code",
   "execution_count": 3,
   "id": "57dc98f4",
   "metadata": {},
   "outputs": [
    {
     "name": "stdout",
     "output_type": "stream",
     "text": [
      "+------+--------------------+-------------------+--------------------+\n",
      "|Number|         Description|  Short_description|    Resolution_notes|\n",
      "+------+--------------------+-------------------+--------------------+\n",
      "|     1|Si richiede la cl...|Short description 1|Resolution notes ...|\n",
      "|     2|NEW Customer crea...|Short description 2|Resolution notes ...|\n",
      "|     3|NEU Kundenanlage ...|Short description 3|Resolution notes ...|\n",
      "+------+--------------------+-------------------+--------------------+\n",
      "\n"
     ]
    }
   ],
   "source": [
    "df.show()"
   ]
  },
  {
   "cell_type": "code",
   "execution_count": 4,
   "id": "c6f41c0a-13bd-4b6d-ac26-78dc3bd9a5db",
   "metadata": {},
   "outputs": [],
   "source": [
    "from myprojects.datasets import utils"
   ]
  },
  {
   "cell_type": "code",
   "execution_count": 5,
   "id": "5b6f3f6a-0b29-4aa1-8118-fe0ce14c5e7f",
   "metadata": {},
   "outputs": [],
   "source": [
    "df_ano=utils.compute(df)"
   ]
  },
  {
   "cell_type": "code",
   "execution_count": 7,
   "id": "2847193d",
   "metadata": {},
   "outputs": [
    {
     "name": "stdout",
     "output_type": "stream",
     "text": [
      "+------+--------------------+-------------------+--------------------+----------------------+----------------------------+---------------------------+\n",
      "|Number|         Description|  Short_description|    Resolution_notes|Description_anonymized|Short_description_anonymized|Resolution_notes_anonymized|\n",
      "+------+--------------------+-------------------+--------------------+----------------------+----------------------------+---------------------------+\n",
      "|     1|Si richiede la cl...|Short description 1|Resolution notes ...|  Si richiede la cl...|         Short description 1|       Resolution notes ...|\n",
      "|     2|NEW Customer crea...|Short description 2|Resolution notes ...|  NEW Customer crea...|         Short description 2|       Resolution notes ...|\n",
      "|     3|NEU Kundenanlage ...|Short description 3|Resolution notes ...|  <ANONYMIZED> nich...|         Short description 3|       Resolution notes ...|\n",
      "+------+--------------------+-------------------+--------------------+----------------------+----------------------------+---------------------------+\n",
      "\n"
     ]
    }
   ],
   "source": [
    "df_ano.show()"
   ]
  }
 ],
 "metadata": {
  "kernelspec": {
   "display_name": "Python 3 (ipykernel)",
   "language": "python",
   "name": "python3"
  },
  "language_info": {
   "codemirror_mode": {
    "name": "ipython",
    "version": 3
   },
   "file_extension": ".py",
   "mimetype": "text/x-python",
   "name": "python",
   "nbconvert_exporter": "python",
   "pygments_lexer": "ipython3",
   "version": "3.11.5"
  }
 },
 "nbformat": 4,
 "nbformat_minor": 5
}
